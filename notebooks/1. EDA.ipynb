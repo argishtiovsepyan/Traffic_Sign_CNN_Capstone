{
 "cells": [
  {
   "cell_type": "markdown",
   "id": "3e7f3ce7-b000-4def-8603-8691e2da2e07",
   "metadata": {},
   "source": [
    "# 1. EDA"
   ]
  },
  {
   "cell_type": "markdown",
   "id": "30839f36-25f5-4b66-9b05-aebcb4ac3649",
   "metadata": {},
   "source": [
    "### The preprocessing of the Tiny LISA traffic sign image dataset is performed to train a Convolutional Neural Network (CNN).\n",
    "\n",
    "- **Reading Annotations**: Image and class information is read from a CSV file, with a class mapping assigning an index to each unique class name.\n",
    "   \n",
    "- **Image Augmentation**: Augmentation techniques like rescaling, shearing, zooming, flipping, and brightness adjustment are applied to enhance the training dataset.\n",
    "\n",
    "- **Loading and Resizing Images**: Images are loaded from the specified path and resized to a common size.\n",
    "\n",
    "- **Applying Augmentations**: Multiple augmented images are generated from each original image.\n",
    "\n",
    "- **Label Transformation**: Class labels are one-hot encoded for multi-class classification.\n",
    "\n",
    "- **Conversion to Numpy Arrays**: Augmented images and class labels are converted into numpy arrays for model input."
   ]
  },
  {
   "cell_type": "code",
   "execution_count": 1,
   "id": "90f6a708-9b0c-43b9-807b-1502721ccd7f",
   "metadata": {},
   "outputs": [],
   "source": [
    "import os\n",
    "import random\n",
    "import numpy as np\n",
    "import pandas as pd\n",
    "import matplotlib.pyplot as plt\n",
    "import seaborn as sns\n",
    "import cv2\n",
    "from PIL import Image\n",
    "from matplotlib import cm\n",
    "from keras.preprocessing import image\n",
    "from keras.preprocessing.image import ImageDataGenerator\n",
    "from sklearn.model_selection import train_test_split\n",
    "from keras.utils import to_categorical"
   ]
  },
  {
   "cell_type": "code",
   "execution_count": 2,
   "id": "b25be055-ffa5-4a87-80ea-eb529b89e729",
   "metadata": {},
   "outputs": [],
   "source": [
    "IMAGE_SIZE = (224, 224)\n",
    "NUM_AUG = 3\n",
    "CSV_PATH = './data/original_data/annotations.csv'"
   ]
  },
  {
   "cell_type": "code",
   "execution_count": 3,
   "id": "12a535bd-c6fb-4f34-9180-8bc85112a2c8",
   "metadata": {},
   "outputs": [],
   "source": [
    "def preprocess_data():\n",
    "    \n",
    "    \"\"\"\n",
    "    This function preprocesses the data for a model. It reads image data from a CSV file,\n",
    "    performs image augmentation, assigns labels to images based on a unique class mapping,\n",
    "    and finally transforms labels and images into numpy arrays.\n",
    "    \"\"\"\n",
    "    \n",
    "    annotations_df = pd.read_csv(CSV_PATH)\n",
    "    unique_classes = annotations_df['class'].unique()\n",
    "    class_mapping = {class_name: i for i, class_name in enumerate(unique_classes)}\n",
    "    images = []\n",
    "    class_labels = []\n",
    "\n",
    "    datagen = ImageDataGenerator(\n",
    "        rescale=1./255,\n",
    "        shear_range = 0.1, \n",
    "        zoom_range = 0.1,\n",
    "        horizontal_flip=True,\n",
    "        brightness_range=(0.9, 1.1),\n",
    "    )\n",
    "\n",
    "    for index, row in annotations_df.iterrows():\n",
    "        image_filename = row['filename']\n",
    "        image_path = os.path.join('./data/original_data', image_filename)\n",
    "        image = Image.open(image_path)\n",
    "        image = image.resize(IMAGE_SIZE)\n",
    "        image_array = np.array(image)\n",
    "        image_array = image_array.reshape((1,) + image_array.shape)\n",
    "        generator = datagen.flow(image_array, batch_size=1)\n",
    "\n",
    "        for _ in range(NUM_AUG):\n",
    "            augmented_image = next(generator)[0] \n",
    "            images.append(augmented_image)\n",
    "            class_labels.append(class_mapping[row['class']])\n",
    "\n",
    "    class_labels = to_categorical(class_labels)\n",
    "    images = np.array(images)\n",
    "    class_labels = np.array(class_labels)\n",
    "\n",
    "    return images, class_labels, class_mapping, annotations_df"
   ]
  },
  {
   "cell_type": "code",
   "execution_count": 4,
   "id": "6237e7e1-0b22-4c3c-997e-0ccf1333860c",
   "metadata": {},
   "outputs": [],
   "source": [
    "images, class_labels, class_mapping, annotations_df = preprocess_data()"
   ]
  },
  {
   "cell_type": "code",
   "execution_count": 5,
   "id": "a407c7c5-c3ae-490f-9522-3f5617cfbbe8",
   "metadata": {},
   "outputs": [],
   "source": [
    "np.save('./data/preproc_data/images.npy', images)\n",
    "np.save('./data/preproc_data/class_labels.npy', class_labels)\n",
    "np.save('./data/preproc_data/class_mapping.npy', class_mapping)\n",
    "annotations_df.to_csv('./data/preproc_data/annotations_df.csv', index=False)"
   ]
  },
  {
   "cell_type": "code",
   "execution_count": 6,
   "id": "96bc335e-0d6f-4144-9d70-7e07e97612e5",
   "metadata": {},
   "outputs": [
    {
     "data": {
      "text/html": [
       "<div>\n",
       "<style scoped>\n",
       "    .dataframe tbody tr th:only-of-type {\n",
       "        vertical-align: middle;\n",
       "    }\n",
       "\n",
       "    .dataframe tbody tr th {\n",
       "        vertical-align: top;\n",
       "    }\n",
       "\n",
       "    .dataframe thead th {\n",
       "        text-align: right;\n",
       "    }\n",
       "</style>\n",
       "<table border=\"1\" class=\"dataframe\">\n",
       "  <thead>\n",
       "    <tr style=\"text-align: right;\">\n",
       "      <th></th>\n",
       "      <th>filename</th>\n",
       "      <th>x1</th>\n",
       "      <th>y1</th>\n",
       "      <th>x2</th>\n",
       "      <th>y2</th>\n",
       "      <th>class</th>\n",
       "    </tr>\n",
       "  </thead>\n",
       "  <tbody>\n",
       "    <tr>\n",
       "      <th>0</th>\n",
       "      <td>sample_001.png</td>\n",
       "      <td>190</td>\n",
       "      <td>40</td>\n",
       "      <td>211</td>\n",
       "      <td>63</td>\n",
       "      <td>stop</td>\n",
       "    </tr>\n",
       "    <tr>\n",
       "      <th>1</th>\n",
       "      <td>sample_002.png</td>\n",
       "      <td>4</td>\n",
       "      <td>246</td>\n",
       "      <td>43</td>\n",
       "      <td>283</td>\n",
       "      <td>stop</td>\n",
       "    </tr>\n",
       "    <tr>\n",
       "      <th>2</th>\n",
       "      <td>sample_003.png</td>\n",
       "      <td>389</td>\n",
       "      <td>286</td>\n",
       "      <td>418</td>\n",
       "      <td>314</td>\n",
       "      <td>stop</td>\n",
       "    </tr>\n",
       "    <tr>\n",
       "      <th>3</th>\n",
       "      <td>sample_004.png</td>\n",
       "      <td>307</td>\n",
       "      <td>243</td>\n",
       "      <td>315</td>\n",
       "      <td>251</td>\n",
       "      <td>stop</td>\n",
       "    </tr>\n",
       "    <tr>\n",
       "      <th>4</th>\n",
       "      <td>sample_005.png</td>\n",
       "      <td>377</td>\n",
       "      <td>249</td>\n",
       "      <td>398</td>\n",
       "      <td>270</td>\n",
       "      <td>stop</td>\n",
       "    </tr>\n",
       "  </tbody>\n",
       "</table>\n",
       "</div>"
      ],
      "text/plain": [
       "         filename   x1   y1   x2   y2 class\n",
       "0  sample_001.png  190   40  211   63  stop\n",
       "1  sample_002.png    4  246   43  283  stop\n",
       "2  sample_003.png  389  286  418  314  stop\n",
       "3  sample_004.png  307  243  315  251  stop\n",
       "4  sample_005.png  377  249  398  270  stop"
      ]
     },
     "execution_count": 6,
     "metadata": {},
     "output_type": "execute_result"
    }
   ],
   "source": [
    "annotations_df = pd.read_csv(CSV_PATH)\n",
    "annotations_df.head()"
   ]
  },
  {
   "cell_type": "code",
   "execution_count": 7,
   "id": "cad08dde-02f5-4309-ac8d-636e5c3e241a",
   "metadata": {},
   "outputs": [
    {
     "data": {
      "text/plain": [
       "array([[1., 0., 0., ..., 0., 0., 0.],\n",
       "       [1., 0., 0., ..., 0., 0., 0.],\n",
       "       [1., 0., 0., ..., 0., 0., 0.],\n",
       "       ...,\n",
       "       [0., 0., 0., ..., 0., 0., 1.],\n",
       "       [0., 0., 0., ..., 0., 0., 1.],\n",
       "       [0., 0., 0., ..., 0., 0., 1.]], dtype=float32)"
      ]
     },
     "execution_count": 7,
     "metadata": {},
     "output_type": "execute_result"
    }
   ],
   "source": [
    "class_labels"
   ]
  },
  {
   "cell_type": "code",
   "execution_count": 8,
   "id": "08d6d9da-7d70-44e9-adee-13fc8c6cc2a8",
   "metadata": {},
   "outputs": [
    {
     "data": {
      "text/plain": [
       "{'stop': 0,\n",
       " 'yield': 1,\n",
       " 'yieldAhead': 2,\n",
       " 'merge': 3,\n",
       " 'signalAhead': 4,\n",
       " 'pedestrianCrossing': 5,\n",
       " 'keepRight': 6,\n",
       " 'speedLimit35': 7,\n",
       " 'speedLimit25': 8}"
      ]
     },
     "execution_count": 8,
     "metadata": {},
     "output_type": "execute_result"
    }
   ],
   "source": [
    "class_mapping"
   ]
  },
  {
   "cell_type": "code",
   "execution_count": 9,
   "id": "f60f8cbc-325c-4f21-ac05-d727ae23e028",
   "metadata": {},
   "outputs": [
    {
     "data": {
      "text/plain": [
       "stop                  0.233333\n",
       "keepRight             0.122222\n",
       "speedLimit35          0.122222\n",
       "merge                 0.111111\n",
       "signalAhead           0.111111\n",
       "pedestrianCrossing    0.111111\n",
       "speedLimit25          0.088889\n",
       "yield                 0.050000\n",
       "yieldAhead            0.050000\n",
       "Name: class, dtype: float64"
      ]
     },
     "execution_count": 9,
     "metadata": {},
     "output_type": "execute_result"
    }
   ],
   "source": [
    "annotations_df['class'].value_counts(normalize=True)"
   ]
  },
  {
   "cell_type": "code",
   "execution_count": 10,
   "id": "1d3a6760-e3ad-4fd7-a337-1bce5e43e671",
   "metadata": {},
   "outputs": [
    {
     "data": {
      "image/png": "[encoded data removed]",
      "text/plain": [
       "<Figure size 640x480 with 1 Axes>"
      ]
     },
     "metadata": {},
     "output_type": "display_data"
    }
   ],
   "source": [
    "class_distribution = annotations_df['class'].value_counts(normalize=True).reset_index()\n",
    "class_distribution.columns = ['Class', 'Frequency']\n",
    "\n",
    "sns.barplot(x='Frequency', y='Class', data=class_distribution, palette=\"colorblind\")\n",
    "\n",
    "plt.title('Class Distribution')\n",
    "plt.xlabel('Frequency')\n",
    "plt.ylabel('Class')\n",
    "\n",
    "plt.tight_layout()\n",
    "plt.savefig('images/presentation/class_dist.png')\n",
    "plt.show()"
   ]
  },
  {
   "cell_type": "code",
   "execution_count": 11,
   "id": "282b29a5-08c8-491a-a564-c3d715a3eebc",
   "metadata": {},
   "outputs": [],
   "source": [
    "# The dataset is split into training, validation, and test sets\n",
    "X_train, X_holdout, y_train, y_holdout = train_test_split(images, class_labels, test_size=0.2, random_state=42)\n",
    "X_val, X_test, y_val, y_test = train_test_split(X_holdout, y_holdout, test_size=0.5, random_state=42)"
   ]
  },
  {
   "cell_type": "code",
   "execution_count": 12,
   "id": "c4eff781-d615-4e66-8687-8908385053e3",
   "metadata": {},
   "outputs": [],
   "source": [
    "np.save('./data/preproc_data/X_train.npy', X_train)\n",
    "np.save('./data/preproc_data/X_val.npy', X_val)\n",
    "np.save('./data/preproc_data/X_test.npy', X_test)\n",
    "np.save('./data/preproc_data/y_train.npy', y_train)\n",
    "np.save('./data/preproc_data/y_val.npy', y_val)\n",
    "np.save('./data/preproc_data/y_test.npy', y_test)"
   ]
  },
  {
   "cell_type": "code",
   "execution_count": 13,
   "id": "c09ed9f3-f50f-42f4-aeec-f9fea9f34c22",
   "metadata": {},
   "outputs": [
    {
     "name": "stdout",
     "output_type": "stream",
     "text": [
      "Training set size: 2160\n",
      "Validation set size: 270\n",
      "Testing set size: 270\n"
     ]
    }
   ],
   "source": [
    "print(\"Training set size:\", len(X_train))\n",
    "print(\"Validation set size:\", len(X_val))\n",
    "print(\"Testing set size:\", len(X_test))"
   ]
  },
  {
   "cell_type": "code",
   "execution_count": null,
   "id": "4b392905-0849-4fda-b40d-cc6db5432c23",
   "metadata": {},
   "outputs": [],
   "source": []
  }
 ],
 "metadata": {
  "kernelspec": {
   "display_name": "Python 3 (ipykernel)",
   "language": "python",
   "name": "python3"
  },
  "language_info": {
   "codemirror_mode": {
    "name": "ipython",
    "version": 3
   },
   "file_extension": ".py",
   "mimetype": "text/x-python",
   "name": "python",
   "nbconvert_exporter": "python",
   "pygments_lexer": "ipython3",
   "version": "3.10.9"
  }
 },
 "nbformat": 4,
 "nbformat_minor": 5
}
