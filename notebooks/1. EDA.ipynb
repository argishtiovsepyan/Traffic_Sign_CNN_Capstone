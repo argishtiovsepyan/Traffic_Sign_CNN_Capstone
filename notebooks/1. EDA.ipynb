{
 "cells": [
  {
   "cell_type": "markdown",
   "id": "3e7f3ce7-b000-4def-8603-8691e2da2e07",
   "metadata": {},
   "source": [
    "# 1. EDA"
   ]
  },
  {
   "cell_type": "markdown",
   "id": "30839f36-25f5-4b66-9b05-aebcb4ac3649",
   "metadata": {},
   "source": [
    "### The preprocessing of the Tiny LISA traffic sign image dataset is performed to train a Convolutional Neural Network (CNN).\n",
    "\n",
    "- **Reading Annotations**: Image and class information is read from a CSV file, with a class mapping an index to each unique class name.\n",
    "   \n",
    "- **Image Augmentation**: Augmentation techniques like rescaling, shearing, zooming, flipping, and brightness adjustment are applied to enhance the training dataset.\n",
    "\n",
    "- **Loading and Resizing Images**: Images are loaded from the specified path and resized to a common size.\n",
    "\n",
    "- **Applying Augmentations**: Multiple augmented images are generated from each original image.\n",
    "\n",
    "- **Label Transformation**: Class labels are one-hot encoded for multi-class classification.\n",
    "\n",
    "- **Conversion to Numpy Arrays**: Augmented images and class labels are converted into numpy arrays for model input."
   ]
  },
  {
   "cell_type": "code",
   "execution_count": 12,
   "id": "dfa07276-beb6-48bf-b1ee-508974a2bcea",
   "metadata": {
    "tags": []
   },
   "outputs": [
    {
     "name": "stdout",
     "output_type": "stream",
     "text": [
      "/Users/argishtiovsepyan/anaconda3/bin/python\n"
     ]
    }
   ],
   "source": [
    "import sys\n",
    "print(sys.executable)"
   ]
  },
  {
   "cell_type": "code",
   "execution_count": 13,
   "id": "90f6a708-9b0c-43b9-807b-1502721ccd7f",
   "metadata": {},
   "outputs": [],
   "source": [
    "import os\n",
    "import numpy as np\n",
    "import pandas as pd\n",
    "import matplotlib.pyplot as plt\n",
    "import seaborn as sns\n",
    "from PIL import Image\n",
    "from typing import Tuple, List, Dict\n",
    "from keras.preprocessing.image import ImageDataGenerator\n",
    "from sklearn.model_selection import train_test_split\n",
    "from keras.utils import to_categorical"
   ]
  },
  {
   "cell_type": "code",
   "execution_count": 14,
   "id": "b25be055-ffa5-4a87-80ea-eb529b89e729",
   "metadata": {},
   "outputs": [],
   "source": [
    "# Configuration\n",
    "IMAGE_SIZE = (224, 224)\n",
    "NUM_AUG = 3\n",
    "CSV_PATH = '../data/original_data/annotations.csv'\n",
    "DATA_DIR = '../data/original_data'\n",
    "PROCESSED_DATA_DIR = '../data/preproc_data'\n",
    "RANDOM_STATE = 42"
   ]
  },
  {
   "cell_type": "code",
   "execution_count": 15,
   "id": "0e94027d-a93f-48b5-bf7a-e282593906f4",
   "metadata": {
    "tags": []
   },
   "outputs": [],
   "source": [
    "def load_annotations(csv_path: str) -> pd.DataFrame:\n",
    "    \"\"\"\n",
    "    Load annotations from a CSV file.\n",
    "\n",
    "    Args:\n",
    "        csv_path (str): Path to the CSV file.\n",
    "\n",
    "    Returns:\n",
    "        pd.DataFrame: DataFrame of annotations.\n",
    "\n",
    "    Raises:\n",
    "        FileNotFoundError: If the CSV file is not found.\n",
    "    \"\"\"\n",
    "    try:\n",
    "        return pd.read_csv(csv_path)\n",
    "    except FileNotFoundError as e:\n",
    "        logging.error(f'File {csv_path} not found: {e}')\n",
    "        raise"
   ]
  },
  {
   "cell_type": "code",
   "execution_count": 16,
   "id": "f9e988e8-dbd9-4186-9241-393d95507f7a",
   "metadata": {
    "tags": []
   },
   "outputs": [],
   "source": [
    "annotations_df = load_annotations(CSV_PATH)"
   ]
  },
  {
   "cell_type": "code",
   "execution_count": 17,
   "id": "2e4bf16f-859c-449b-bef6-56e2cfd99abd",
   "metadata": {
    "tags": []
   },
   "outputs": [],
   "source": [
    "def get_class_mapping(annotations_df: pd.DataFrame) -> Dict[str, int]:\n",
    "    \"\"\"\n",
    "    Generate a mapping from class names to numerical labels.\n",
    "\n",
    "    Args:\n",
    "        annotations_df (pd.DataFrame): DataFrame containing annotations with class names.\n",
    "\n",
    "    Returns:\n",
    "        Dict[str, int]: Dictionary of class names to numerical labels.\n",
    "    \"\"\"\n",
    "    unique_classes = annotations_df['class'].unique()\n",
    "    return {class_name: i for i, class_name in enumerate(unique_classes)}"
   ]
  },
  {
   "cell_type": "code",
   "execution_count": 18,
   "id": "0b39aeb1-a67c-42b6-9996-5b2f0cbad57d",
   "metadata": {
    "tags": []
   },
   "outputs": [],
   "source": [
    "class_mapping = get_class_mapping(annotations_df)"
   ]
  },
  {
   "cell_type": "code",
   "execution_count": 19,
   "id": "8c381990-8378-4777-9c58-7b0926e7116c",
   "metadata": {
    "tags": []
   },
   "outputs": [],
   "source": [
    " def augment_image(image: Image, datagen: ImageDataGenerator) -> List[np.ndarray]:\n",
    "    \"\"\"\n",
    "    Augment a single image using the specified data generator.\n",
    "\n",
    "    Args:\n",
    "        image (Image): PIL Image object.\n",
    "        datagen (ImageDataGenerator): Keras ImageDataGenerator instance.\n",
    "\n",
    "    Returns:\n",
    "        List[np.ndarray]: List of augmented images.\n",
    "    \"\"\"\n",
    "    image_array = np.array(image)\n",
    "    image_array = image_array.reshape((1,) + image_array.shape)\n",
    "    generator = datagen.flow(image_array, batch_size=1)\n",
    "    return [next(generator)[0] for _ in range(NUM_AUG)]"
   ]
  },
  {
   "cell_type": "code",
   "execution_count": 20,
   "id": "7bacd9d8-a132-49d6-a14a-5327a28ff000",
   "metadata": {
    "tags": []
   },
   "outputs": [],
   "source": [
    "def preprocess_images(annotations_df: pd.DataFrame, class_mapping: Dict[str, int]) -> Tuple[np.ndarray, np.ndarray]:\n",
    "    \"\"\"\n",
    "    Preprocess and augment images based on annotations.\n",
    "\n",
    "    Args:\n",
    "        annotations_df (pd.DataFrame): DataFrame containing image annotations.\n",
    "        class_mapping (Dict[str, int]): Dictionary mapping class names to numerical labels.\n",
    "\n",
    "    Returns:\n",
    "        Tuple[np.ndarray, np.ndarray]: Tuple of numpy arrays for images and their corresponding labels.\n",
    "    \"\"\"\n",
    "    datagen = ImageDataGenerator(\n",
    "        rescale=1./255,\n",
    "        shear_range=0.1, \n",
    "        zoom_range=0.1,\n",
    "        horizontal_flip=True,\n",
    "        brightness_range=(0.9, 1.1),\n",
    "    )\n",
    "\n",
    "    images, class_labels = [], []\n",
    "    for _, row in annotations_df.iterrows():\n",
    "        try:\n",
    "            image_path = os.path.join(DATA_DIR, row['filename'])\n",
    "            with Image.open(image_path) as img:\n",
    "                img_resized = img.resize(IMAGE_SIZE)\n",
    "                augmented_images = augment_image(img_resized, datagen)\n",
    "                images.extend(augmented_images)\n",
    "                class_labels.extend([class_mapping[row['class']]] * NUM_AUG)\n",
    "        except FileNotFoundError as e:\n",
    "            logging.warning(f'Image {row[\"filename\"]} not found: {e}')\n",
    "            continue\n",
    "\n",
    "    return np.array(images), to_categorical(class_labels)"
   ]
  },
  {
   "cell_type": "code",
   "execution_count": 21,
   "id": "28ceda49-ef37-4e86-8406-113c7c997475",
   "metadata": {
    "tags": []
   },
   "outputs": [],
   "source": [
    "images, class_labels = preprocess_images(annotations_df, class_mapping)"
   ]
  },
  {
   "cell_type": "code",
   "execution_count": 23,
   "id": "a407c7c5-c3ae-490f-9522-3f5617cfbbe8",
   "metadata": {},
   "outputs": [],
   "source": [
    "np.save('../data/preproc_data/images.npy', images)\n",
    "np.save('../data/preproc_data/class_labels.npy', class_labels)\n",
    "np.save('../data/preproc_data/class_mapping.npy', class_mapping)\n",
    "annotations_df.to_csv('../data/preproc_data/annotations_df.csv', index=False)"
   ]
  },
  {
   "cell_type": "code",
   "execution_count": 24,
   "id": "96bc335e-0d6f-4144-9d70-7e07e97612e5",
   "metadata": {},
   "outputs": [
    {
     "data": {
      "text/html": [
       "<div>\n",
       "<style scoped>\n",
       "    .dataframe tbody tr th:only-of-type {\n",
       "        vertical-align: middle;\n",
       "    }\n",
       "\n",
       "    .dataframe tbody tr th {\n",
       "        vertical-align: top;\n",
       "    }\n",
       "\n",
       "    .dataframe thead th {\n",
       "        text-align: right;\n",
       "    }\n",
       "</style>\n",
       "<table border=\"1\" class=\"dataframe\">\n",
       "  <thead>\n",
       "    <tr style=\"text-align: right;\">\n",
       "      <th></th>\n",
       "      <th>filename</th>\n",
       "      <th>x1</th>\n",
       "      <th>y1</th>\n",
       "      <th>x2</th>\n",
       "      <th>y2</th>\n",
       "      <th>class</th>\n",
       "    </tr>\n",
       "  </thead>\n",
       "  <tbody>\n",
       "    <tr>\n",
       "      <th>0</th>\n",
       "      <td>sample_001.png</td>\n",
       "      <td>190</td>\n",
       "      <td>40</td>\n",
       "      <td>211</td>\n",
       "      <td>63</td>\n",
       "      <td>stop</td>\n",
       "    </tr>\n",
       "    <tr>\n",
       "      <th>1</th>\n",
       "      <td>sample_002.png</td>\n",
       "      <td>4</td>\n",
       "      <td>246</td>\n",
       "      <td>43</td>\n",
       "      <td>283</td>\n",
       "      <td>stop</td>\n",
       "    </tr>\n",
       "    <tr>\n",
       "      <th>2</th>\n",
       "      <td>sample_003.png</td>\n",
       "      <td>389</td>\n",
       "      <td>286</td>\n",
       "      <td>418</td>\n",
       "      <td>314</td>\n",
       "      <td>stop</td>\n",
       "    </tr>\n",
       "    <tr>\n",
       "      <th>3</th>\n",
       "      <td>sample_004.png</td>\n",
       "      <td>307</td>\n",
       "      <td>243</td>\n",
       "      <td>315</td>\n",
       "      <td>251</td>\n",
       "      <td>stop</td>\n",
       "    </tr>\n",
       "    <tr>\n",
       "      <th>4</th>\n",
       "      <td>sample_005.png</td>\n",
       "      <td>377</td>\n",
       "      <td>249</td>\n",
       "      <td>398</td>\n",
       "      <td>270</td>\n",
       "      <td>stop</td>\n",
       "    </tr>\n",
       "  </tbody>\n",
       "</table>\n",
       "</div>"
      ],
      "text/plain": [
       "         filename   x1   y1   x2   y2 class\n",
       "0  sample_001.png  190   40  211   63  stop\n",
       "1  sample_002.png    4  246   43  283  stop\n",
       "2  sample_003.png  389  286  418  314  stop\n",
       "3  sample_004.png  307  243  315  251  stop\n",
       "4  sample_005.png  377  249  398  270  stop"
      ]
     },
     "execution_count": 24,
     "metadata": {},
     "output_type": "execute_result"
    }
   ],
   "source": [
    "annotations_df = pd.read_csv(CSV_PATH)\n",
    "annotations_df.head()"
   ]
  },
  {
   "cell_type": "code",
   "execution_count": 25,
   "id": "cad08dde-02f5-4309-ac8d-636e5c3e241a",
   "metadata": {},
   "outputs": [
    {
     "data": {
      "text/plain": [
       "array([[1., 0., 0., ..., 0., 0., 0.],\n",
       "       [1., 0., 0., ..., 0., 0., 0.],\n",
       "       [1., 0., 0., ..., 0., 0., 0.],\n",
       "       ...,\n",
       "       [0., 0., 0., ..., 0., 0., 1.],\n",
       "       [0., 0., 0., ..., 0., 0., 1.],\n",
       "       [0., 0., 0., ..., 0., 0., 1.]], dtype=float32)"
      ]
     },
     "execution_count": 25,
     "metadata": {},
     "output_type": "execute_result"
    }
   ],
   "source": [
    "class_labels"
   ]
  },
  {
   "cell_type": "code",
   "execution_count": 26,
   "id": "08d6d9da-7d70-44e9-adee-13fc8c6cc2a8",
   "metadata": {},
   "outputs": [
    {
     "data": {
      "text/plain": [
       "{'stop': 0,\n",
       " 'yield': 1,\n",
       " 'yieldAhead': 2,\n",
       " 'merge': 3,\n",
       " 'signalAhead': 4,\n",
       " 'pedestrianCrossing': 5,\n",
       " 'keepRight': 6,\n",
       " 'speedLimit35': 7,\n",
       " 'speedLimit25': 8}"
      ]
     },
     "execution_count": 26,
     "metadata": {},
     "output_type": "execute_result"
    }
   ],
   "source": [
    "class_mapping"
   ]
  },
  {
   "cell_type": "code",
   "execution_count": 27,
   "id": "f60f8cbc-325c-4f21-ac05-d727ae23e028",
   "metadata": {},
   "outputs": [
    {
     "data": {
      "text/plain": [
       "class\n",
       "stop                  0.233333\n",
       "keepRight             0.122222\n",
       "speedLimit35          0.122222\n",
       "merge                 0.111111\n",
       "signalAhead           0.111111\n",
       "pedestrianCrossing    0.111111\n",
       "speedLimit25          0.088889\n",
       "yield                 0.050000\n",
       "yieldAhead            0.050000\n",
       "Name: proportion, dtype: float64"
      ]
     },
     "execution_count": 27,
     "metadata": {},
     "output_type": "execute_result"
    }
   ],
   "source": [
    "annotations_df['class'].value_counts(normalize=True)"
   ]
  },
  {
   "cell_type": "code",
   "execution_count": 31,
   "id": "1d3a6760-e3ad-4fd7-a337-1bce5e43e671",
   "metadata": {},
   "outputs": [
    {
     "data": {
      "image/png": "[encoded data removed]",
      "text/plain": [
       "<Figure size 640x480 with 1 Axes>"
      ]
     },
     "metadata": {},
     "output_type": "display_data"
    }
   ],
   "source": [
    "class_distribution = annotations_df['class'].value_counts(normalize=True).reset_index()\n",
    "class_distribution.columns = ['Class', 'Frequency']\n",
    "\n",
    "sns.barplot(x='Frequency', y='Class', data=class_distribution, palette=\"colorblind\")\n",
    "\n",
    "plt.title('Class Distribution')\n",
    "plt.xlabel('Frequency')\n",
    "plt.ylabel('Class')\n",
    "\n",
    "plt.tight_layout()\n",
    "plt.savefig('../images/presentation/class_dist.png')\n",
    "plt.show()"
   ]
  },
  {
   "cell_type": "code",
   "execution_count": 32,
   "id": "ab423218-0774-47f3-a299-e95f7da3929a",
   "metadata": {
    "tags": []
   },
   "outputs": [],
   "source": [
    "def split_dataset(images: np.ndarray, class_labels: np.ndarray) -> Tuple[np.ndarray, ...]:\n",
    "    \"\"\"\n",
    "    Split the dataset into training, validation, and testing sets.\n",
    "\n",
    "    Args:\n",
    "        images (np.ndarray): Numpy array of image data.\n",
    "        class_labels (np.ndarray): Numpy array of class labels.\n",
    "\n",
    "    Returns:\n",
    "        Tuple[np.ndarray, ...]: Tuple of numpy arrays for training, validation, and testing sets.\n",
    "    \"\"\"\n",
    "    X_train, X_holdout, y_train, y_holdout = train_test_split(images, class_labels, test_size=0.2, random_state=RANDOM_STATE)\n",
    "    X_val, X_test, y_val, y_test = train_test_split(X_holdout, y_holdout, test_size=0.5, random_state=RANDOM_STATE)\n",
    "    return X_train, X_val, X_test, y_train, y_val, y_test"
   ]
  },
  {
   "cell_type": "code",
   "execution_count": 33,
   "id": "1412a328-2cee-488c-a4c6-874fd9334113",
   "metadata": {
    "tags": []
   },
   "outputs": [],
   "source": [
    "X_train, X_val, X_test, y_train, y_val, y_test = split_dataset(images, class_labels)"
   ]
  },
  {
   "cell_type": "code",
   "execution_count": 34,
   "id": "c4eff781-d615-4e66-8687-8908385053e3",
   "metadata": {},
   "outputs": [],
   "source": [
    "np.save('../data/preproc_data/X_train.npy', X_train)\n",
    "np.save('../data/preproc_data/X_val.npy', X_val)\n",
    "np.save('../data/preproc_data/X_test.npy', X_test)\n",
    "np.save('../data/preproc_data/y_train.npy', y_train)\n",
    "np.save('../data/preproc_data/y_val.npy', y_val)\n",
    "np.save('../data/preproc_data/y_test.npy', y_test)"
   ]
  },
  {
   "cell_type": "code",
   "execution_count": 35,
   "id": "c09ed9f3-f50f-42f4-aeec-f9fea9f34c22",
   "metadata": {},
   "outputs": [
    {
     "name": "stdout",
     "output_type": "stream",
     "text": [
      "Training set size: 2160\n",
      "Validation set size: 270\n",
      "Testing set size: 270\n"
     ]
    }
   ],
   "source": [
    "print(\"Training set size:\", len(X_train))\n",
    "print(\"Validation set size:\", len(X_val))\n",
    "print(\"Testing set size:\", len(X_test))"
   ]
  },
  {
   "cell_type": "code",
   "execution_count": null,
   "id": "11bf4826-f720-4b8d-ad30-c8b5d42dc4ee",
   "metadata": {},
   "outputs": [],
   "source": []
  }
 ],
 "metadata": {
  "kernelspec": {
   "display_name": "Python 3 (ipykernel)",
   "language": "python",
   "name": "python3"
  },
  "language_info": {
   "codemirror_mode": {
    "name": "ipython",
    "version": 3
   },
   "file_extension": ".py",
   "mimetype": "text/x-python",
   "name": "python",
   "nbconvert_exporter": "python",
   "pygments_lexer": "ipython3",
   "version": "3.11.5"
  }
 },
 "nbformat": 4,
 "nbformat_minor": 5
}
